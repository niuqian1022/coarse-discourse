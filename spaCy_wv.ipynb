{
 "cells": [
  {
   "cell_type": "code",
   "execution_count": null,
   "metadata": {
    "collapsed": true
   },
   "outputs": [],
   "source": [
    "!pip install spaCy"
   ]
  },
  {
   "cell_type": "code",
   "execution_count": null,
   "metadata": {
    "collapsed": true
   },
   "outputs": [],
   "source": [
    "!python -m spacy download en \n"
   ]
  },
  {
   "cell_type": "markdown",
   "metadata": {},
   "source": [
    "spacy.load('en') doesn't work. import the model instead, and use the 'model'.load"
   ]
  },
  {
   "cell_type": "code",
   "execution_count": 26,
   "metadata": {},
   "outputs": [
    {
     "name": "stdout",
     "output_type": "stream",
     "text": [
      "there are 48448 comments in training set \n",
      "there are 12113 comments in testing set \n",
      "(48448, 12113)\n"
     ]
    }
   ],
   "source": [
    "# load the data, clean-up texts, generate x = text, y = label dataset\n",
    "import numpy\n",
    "import re\n",
    "import spacy\n",
    "import en_core_web_sm\n",
    "import en_vectors_glove_md\n",
    "\n",
    "nlp = en_vectors_glove_md.load()\n",
    "\n",
    "def cleanup_text(doc_text):\n",
    "    #doc_text = re.sub(\"[^a-zA-Z]\",\" \", doc_text)\n",
    "    \n",
    "    doc_text = re.sub(\" http[.s]*\\:.* \", \" url \", doc_text)\n",
    "    return doc_text\n",
    "\n",
    "# load training data\n",
    "train_comments = []\n",
    "train_labels = []\n",
    "with open('train_comments.csv', 'rb') as f:\n",
    "    for line in f:\n",
    "        sep_loc = line.rfind(',')\n",
    "        train_comments.append(cleanup_text(line[:sep_loc].decode('utf-8')))\n",
    "        train_labels.append(int(line[sep_loc+1:]))\n",
    "print ('there are %d comments in training set ' % len(train_comments))\n",
    "#load test data\n",
    "test_comments = []\n",
    "test_labels = []\n",
    "with open('test_comments.csv', 'rb') as f:\n",
    "    for line in f:\n",
    "        sep_loc = line.rfind(',')\n",
    "        test_comments.append(cleanup_text(line[:sep_loc].decode('utf-8')))\n",
    "        test_labels.append(int(line[sep_loc+1:]))\n",
    "print ('there are %d comments in testing set ' % len(test_comments))\n",
    "#calculate word vectors\n",
    "def word2vector(list_doc):\n",
    "    w2v_feat = []\n",
    "    for i in range(len(list_doc)):\n",
    "        vector = nlp(list_doc[i]).vector\n",
    "        w2v_feat.append(vector)\n",
    "    return w2v_feat\n",
    "\n",
    "train_feat = word2vector(train_comments)\n",
    "test_feat = word2vector(test_comments)\n",
    "    \n",
    "print(len(train_feat), len(test_feat))\n"
   ]
  },
  {
   "cell_type": "code",
   "execution_count": null,
   "metadata": {
    "collapsed": true
   },
   "outputs": [],
   "source": [
    "#check if the random-split for training set contains the same proportion of every category\n",
    "import numpy as np\n",
    "import matplotlib.pyplot as plt\n",
    "\n",
    "comments = []\n",
    "labels = []\n",
    "with open('comments.csv', 'rb') as f:\n",
    "    for line in f:\n",
    "        sep_loc = line.rfind(',')\n",
    "        comments.append(cleanup_text(line[:sep_loc].decode('utf-8')))\n",
    "        labels.append(int(line[sep_loc+1:]))\n",
    "        \n",
    "plt.hist(train_labels, bins='auto')  \n",
    "plt.show()\n",
    "print (np.histogram(train_labels, normed = True, bins = 9))\n",
    "        \n",
    "plt.hist(labels, bins='auto')  \n",
    "plt.show()\n",
    "print (np.histogram(labels, normed = True, bins = 9))"
   ]
  },
  {
   "cell_type": "code",
   "execution_count": null,
   "metadata": {
    "collapsed": true
   },
   "outputs": [],
   "source": [
    "from sklearn.feature_extraction.text import CountVectorizer, TfidfVectorizer\n",
    "from sklearn.linear_model import LogisticRegression\n",
    "from sklearn.svm import LinearSVC\n",
    "from sklearn.ensemble import RandomForestClassifier\n",
    "from sklearn.model_selection import GridSearchCV\n",
    "import numpy as np\n",
    "\n",
    "# try two types of data representation, bag of words and tf-idf\n",
    "# try with three classifiers: logistic regression, linear svm, random forest\n",
    "# do a grid search to do model selection\n",
    "nlp = en_vectors_glove_md.load()\n",
    "\n",
    "def word2vector(list_doc):\n",
    "    w2v_feat = []\n",
    "    for i in range(len(list_doc)):\n",
    "        vector = nlp(list_doc[i]).vector\n",
    "        w2v_feat.append(vector)\n",
    "    return w2v_feat\n",
    "    \n",
    "vectorizers = [CountVectorizer, TfidfVectorizer, word2vector]\n",
    "classifiers = [LogisticRegression, LinearSVC] # RandomForestClassifier\n",
    "param_grid = {LogisticRegression: {'penalty':['l1', 'l2'],\n",
    "                                   'C':[0.001, 0.01, 0.1, 1, 10]},\n",
    "              LinearSVC: {'C':[0.001,0.01,0.1,1,10]}}\n",
    "# train_comments = train_comments[:1000]\n",
    "# train_labels = train_labels[:1000]\n",
    "for vect in vectorizers:\n",
    "    print('Extracting features with', vect)\n",
    "    if vect == word2vector:\n",
    "        train_feat = word2vector(train_comments)\n",
    "        test_feat = word2vector(test_comments)\n",
    "        \n",
    "    else:\n",
    "        feat_ext = vect(ngram_range=(1,3), # use up to 3-gram\n",
    "                    max_df=0.7 # use max df to filter stop words\n",
    "                    )\n",
    "        train_feat = feat_ext.fit_transform(train_comments) # feat_ext.fit(train_comments) feat_ext.transform(train_comments)\n",
    "        test_feat = feat_ext.transform(test_comments)\n",
    "\n",
    "    for classifier_type in classifiers:\n",
    "        print('Training {}'.format(classifier_type))\n",
    "        model = classifier_type()\n",
    "        \n",
    "        model_selector = GridSearchCV(model,\n",
    "                                      param_grid[classifier_type],\n",
    "                                      n_jobs=4,\n",
    "                                      cv=3)\n",
    "        model_selector.fit(train_feat, train_labels)\n",
    "        print('Best classification acc: {}'.format(model_selector.best_score_))\n",
    "\n",
    "        test_acc = model_selector.score(test_feat, test_labels)\n",
    "        print('Test classification acc: {}'.format(test_acc))\n",
    "        \n",
    "#just for randomForest\n",
    "RF_param_grid = {'n_estimators':[100], # fix to 100 trees\n",
    "                'criterion':['gini', 'entropy'],\n",
    "                'min_samples_split':[2, 4, 10],\n",
    "                'n_jobs':[-1] # multi process\n",
    "                                      }\n",
    "print('Extracting features with', word2vector)\n",
    "train_feat = word2vector(train_comments)\n",
    "test_feat = word2vector(test_comments)\n",
    "print('Training {}'.format(RandomForestClassifier))\n",
    "model = RandomForestClassifier()\n",
    "model_selector = GridSearchCV(model,\n",
    "                              RF_param_grid,\n",
    "                              n_jobs=4,\n",
    "                              cv=3)\n",
    "model_selector.fit(train_feat, train_labels)\n",
    "print('Best classification acc: {}'.format(model_selector.best_score_))\n",
    "\n",
    "test_acc = model_selector.score(test_feat, test_labels)\n",
    "print('Test classification acc: {}'.format(test_acc))"
   ]
  },
  {
   "cell_type": "code",
   "execution_count": 27,
   "metadata": {},
   "outputs": [
    {
     "ename": "ImportError",
     "evalue": "cannot import name get_uid",
     "output_type": "error",
     "traceback": [
      "\u001b[1;31m---------------------------------------------------------------------------\u001b[0m",
      "\u001b[1;31mImportError\u001b[0m                               Traceback (most recent call last)",
      "\u001b[1;32m<ipython-input-27-331a264ee9ef>\u001b[0m in \u001b[0;36m<module>\u001b[1;34m()\u001b[0m\n\u001b[1;32m----> 1\u001b[1;33m \u001b[1;32mfrom\u001b[0m \u001b[0mkeras\u001b[0m\u001b[1;33m.\u001b[0m\u001b[0mmodels\u001b[0m \u001b[1;32mimport\u001b[0m \u001b[0mSequential\u001b[0m\u001b[1;33m\u001b[0m\u001b[0m\n\u001b[0m\u001b[0;32m      2\u001b[0m \u001b[1;32mfrom\u001b[0m \u001b[0mkeras\u001b[0m\u001b[1;33m.\u001b[0m\u001b[0mlayers\u001b[0m \u001b[1;32mimport\u001b[0m \u001b[0mDense\u001b[0m\u001b[1;33m,\u001b[0m \u001b[0mDropout\u001b[0m\u001b[1;33m\u001b[0m\u001b[0m\n\u001b[0;32m      3\u001b[0m \u001b[1;32mfrom\u001b[0m \u001b[0mkeras\u001b[0m\u001b[1;33m.\u001b[0m\u001b[0mlayers\u001b[0m \u001b[1;32mimport\u001b[0m \u001b[0mEmbedding\u001b[0m\u001b[1;33m\u001b[0m\u001b[0m\n\u001b[0;32m      4\u001b[0m \u001b[1;32mfrom\u001b[0m \u001b[0mkeras\u001b[0m\u001b[1;33m.\u001b[0m\u001b[0mlayers\u001b[0m \u001b[1;32mimport\u001b[0m \u001b[0mLSTM\u001b[0m\u001b[1;33m\u001b[0m\u001b[0m\n\u001b[0;32m      5\u001b[0m \u001b[1;33m\u001b[0m\u001b[0m\n",
      "\u001b[1;32mC:\\Users\\Sophia\\Anaconda2\\lib\\site-packages\\keras\\__init__.py\u001b[0m in \u001b[0;36m<module>\u001b[1;34m()\u001b[0m\n\u001b[0;32m      1\u001b[0m \u001b[1;32mfrom\u001b[0m \u001b[0m__future__\u001b[0m \u001b[1;32mimport\u001b[0m \u001b[0mabsolute_import\u001b[0m\u001b[1;33m\u001b[0m\u001b[0m\n\u001b[1;32m----> 2\u001b[1;33m \u001b[1;32mfrom\u001b[0m \u001b[1;33m.\u001b[0m \u001b[1;32mimport\u001b[0m \u001b[0mbackend\u001b[0m\u001b[1;33m\u001b[0m\u001b[0m\n\u001b[0m\u001b[0;32m      3\u001b[0m \u001b[1;32mfrom\u001b[0m \u001b[1;33m.\u001b[0m \u001b[1;32mimport\u001b[0m \u001b[0mdatasets\u001b[0m\u001b[1;33m\u001b[0m\u001b[0m\n\u001b[0;32m      4\u001b[0m \u001b[1;32mfrom\u001b[0m \u001b[1;33m.\u001b[0m \u001b[1;32mimport\u001b[0m \u001b[0mengine\u001b[0m\u001b[1;33m\u001b[0m\u001b[0m\n\u001b[0;32m      5\u001b[0m \u001b[1;32mfrom\u001b[0m \u001b[1;33m.\u001b[0m \u001b[1;32mimport\u001b[0m \u001b[0mlayers\u001b[0m\u001b[1;33m\u001b[0m\u001b[0m\n",
      "\u001b[1;32mC:\\Users\\Sophia\\Anaconda2\\lib\\site-packages\\keras\\backend\\__init__.py\u001b[0m in \u001b[0;36m<module>\u001b[1;34m()\u001b[0m\n\u001b[0;32m      8\u001b[0m \u001b[1;32mfrom\u001b[0m \u001b[1;33m.\u001b[0m\u001b[0mcommon\u001b[0m \u001b[1;32mimport\u001b[0m \u001b[0mset_epsilon\u001b[0m\u001b[1;33m\u001b[0m\u001b[0m\n\u001b[0;32m      9\u001b[0m \u001b[1;32mfrom\u001b[0m \u001b[1;33m.\u001b[0m\u001b[0mcommon\u001b[0m \u001b[1;32mimport\u001b[0m \u001b[0mset_floatx\u001b[0m\u001b[1;33m\u001b[0m\u001b[0m\n\u001b[1;32m---> 10\u001b[1;33m \u001b[1;32mfrom\u001b[0m \u001b[1;33m.\u001b[0m\u001b[0mcommon\u001b[0m \u001b[1;32mimport\u001b[0m \u001b[0mget_uid\u001b[0m\u001b[1;33m\u001b[0m\u001b[0m\n\u001b[0m\u001b[0;32m     11\u001b[0m \u001b[1;32mfrom\u001b[0m \u001b[1;33m.\u001b[0m\u001b[0mcommon\u001b[0m \u001b[1;32mimport\u001b[0m \u001b[0mcast_to_floatx\u001b[0m\u001b[1;33m\u001b[0m\u001b[0m\n\u001b[0;32m     12\u001b[0m \u001b[1;32mfrom\u001b[0m \u001b[1;33m.\u001b[0m\u001b[0mcommon\u001b[0m \u001b[1;32mimport\u001b[0m \u001b[0mimage_dim_ordering\u001b[0m\u001b[1;33m\u001b[0m\u001b[0m\n",
      "\u001b[1;31mImportError\u001b[0m: cannot import name get_uid"
     ]
    }
   ],
   "source": [
    "from keras.models import Sequential\n",
    "from keras.layers import Dense, Dropout\n",
    "from keras.layers import Embedding\n",
    "from keras.layers import LSTM\n",
    "\n",
    "model = Sequential()\n",
    "model.add(Embedding(max_features, output_dim=256))\n",
    "model.add(LSTM(128))\n",
    "model.add(Dropout(0.5))\n",
    "model.add(Dense(1, activation='sigmoid'))\n",
    "\n",
    "model.compile(loss='categorical_crossentropy',\n",
    "              optimizer='rmsprop',\n",
    "              metrics=['accuracy'])\n",
    "\n",
    "model.fit(train_feat[:100], train_labels[:100], batch_size=32, epochs=10)\n",
    "score = model.evaluate(x_test, y_test, batch_size=16)"
   ]
  },
  {
   "cell_type": "code",
   "execution_count": null,
   "metadata": {
    "collapsed": true
   },
   "outputs": [],
   "source": []
  }
 ],
 "metadata": {
  "kernelspec": {
   "display_name": "Python 2",
   "language": "python",
   "name": "python2"
  },
  "language_info": {
   "codemirror_mode": {
    "name": "ipython",
    "version": 2
   },
   "file_extension": ".py",
   "mimetype": "text/x-python",
   "name": "python",
   "nbconvert_exporter": "python",
   "pygments_lexer": "ipython2",
   "version": "2.7.13"
  }
 },
 "nbformat": 4,
 "nbformat_minor": 2
}
