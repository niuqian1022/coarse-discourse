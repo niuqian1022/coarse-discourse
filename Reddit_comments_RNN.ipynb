{
 "cells": [
  {
   "cell_type": "code",
   "execution_count": 20,
   "metadata": {},
   "outputs": [
    {
     "name": "stdout",
     "output_type": "stream",
     "text": [
      "load text documents in shape of lists of comments and lists of labels\n",
      "there are 48448 comments in training set \n",
      "there are 12113 comments in testing set \n",
      "[u\"I think you'll be golden with b/w roshe run. It's not the latest style/fashion forward, but by now they're a classic and neutral (in a good way, i.e. works with lots of outfits), and you know she likes them.  I still see them on lots of very stylish girls here in Copenhagen.\"]\n",
      "Found 4 unique tokens.\n",
      "('Shape of data tensor:', (2L, 100L))\n",
      "('Shape of label tensor:', (100L,))\n"
     ]
    }
   ],
   "source": [
    "from keras.preprocessing.text import Tokenizer\n",
    "from keras.preprocessing.sequence import pad_sequences\n",
    "import numpy as np\n",
    "print ('load text documents in shape of lists of comments and lists of labels') \n",
    "\n",
    "def cleanup_text(doc_text):\n",
    "    #doc_text = re.sub(\"[^a-zA-Z]\",\" \", doc_text)    \n",
    "    doc_text = re.sub(\" http[.s]*\\:.* \", \" url \", doc_text)\n",
    "    return doc_text\n",
    "\n",
    "# load data\n",
    "comments = []\n",
    "labels = []\n",
    "with open('comments.csv', 'rb') as f:\n",
    "    for line in f:\n",
    "        sep_loc = line.rfind(',')\n",
    "        comments.append(cleanup_text(line[:sep_loc].decode('utf-8')))\n",
    "        labels.append(int(line[sep_loc+1:]))\n",
    "print ('there are a total of %d comments in dataset ' % len(comments))\n",
    "\n",
    "MAX_NB_WORDS = 20000\n",
    "MAX_SEQUENCE_LENGTH = 100\n",
    "batch_size = 32\n",
    "\n",
    "tokenizer = Tokenizer(nb_words=MAX_NB_WORDS)\n",
    "tokenizer.fit_on_texts(comments)\n",
    "sequences = tokenizer.texts_to_sequences(comments)\n",
    "word_index = tokenizer.word_index\n",
    "print('Found %s unique tokens.' % len(word_index))\n",
    "\n",
    "# random split train and test\n",
    "perm_idx = np.random.permutation(len(comments))\n",
    "ntrain = int(0.8*len(comments))\n",
    "ntest = len(comments) - ntrain\n",
    "train_idx = perm_idx[:ntrain]\n",
    "test_idx = perm_idx[ntrain:]\n",
    "# get train and test sets' X and Y\n",
    "x_train = sequences[train_idx]\n",
    "x_test = sequences[test_idx]\n",
    "y_train = np.asarray(labels[train_idx])\n",
    "y_test = np.asarray(labels[test_idx])\n",
    "\n",
    "print('Pad sequences')\n",
    "x_train = pad_sequences(x_train, maxlen=MAX_SEQUENCE_LENGTHn)\n",
    "x_test = pad_sequences(x_test, maxlen=MAX_SEQUENCE_LENGTH)\n",
    "\n",
    "print('Shape of trainset X and Y:', x_train.shape, y_train.shape)\n",
    "print('Shape of textset X and Y:', x_test.shape, y_test.shape)\n"
   ]
  },
  {
   "cell_type": "code",
   "execution_count": null,
   "metadata": {
    "collapsed": true
   },
   "outputs": [],
   "source": [
    "from __future__ import print_function\n",
    "\n",
    "from keras.models import Sequential\n",
    "from keras.layers import Dense, Embedding\n",
    "from keras.layers import LSTM\n",
    "\n",
    "print('Build model...')\n",
    "model = Sequential()\n",
    "model.add(Embedding(MAX_NB_WORDS, 128))\n",
    "model.add(LSTM(128, dropout=0.2, dropout=0.2))\n",
    "model.add(Dense(9, activation='softmax'))\n",
    "\n",
    "# try using different optimizers and different optimizer configs\n",
    "model.compile(loss='categorical_crossentropy',\n",
    "              optimizer='adam',\n",
    "              metrics=['accuracy'])\n",
    "\n",
    "print('Train...')\n",
    "model.fit(x_train, y_train,\n",
    "          batch_size=batch_size,\n",
    "          epoch=15,\n",
    "          validation_data=(x_test, y_test))\n",
    "score, acc = model.evaluate(x_test, y_test,\n",
    "                            batch_size=batch_size)\n",
    "print('Test score:', score)\n",
    "print('Test accuracy:', acc)\n"
   ]
  },
  {
   "cell_type": "code",
   "execution_count": null,
   "metadata": {
    "collapsed": true
   },
   "outputs": [],
   "source": []
  }
 ],
 "metadata": {
  "kernelspec": {
   "display_name": "Python 2",
   "language": "python",
   "name": "python2"
  },
  "language_info": {
   "codemirror_mode": {
    "name": "ipython",
    "version": 2
   },
   "file_extension": ".py",
   "mimetype": "text/x-python",
   "name": "python",
   "nbconvert_exporter": "python",
   "pygments_lexer": "ipython2",
   "version": "2.7.13"
  }
 },
 "nbformat": 4,
 "nbformat_minor": 2
}
