{
 "cells": [
  {
   "cell_type": "code",
   "execution_count": null,
   "metadata": {
    "collapsed": true
   },
   "outputs": [],
   "source": [
    "!pip install spaCy"
   ]
  },
  {
   "cell_type": "code",
   "execution_count": null,
   "metadata": {
    "collapsed": true
   },
   "outputs": [],
   "source": [
    "!python -m spacy download en \n"
   ]
  },
  {
   "cell_type": "markdown",
   "metadata": {},
   "source": [
    "spacy.load('en') doesn't work. import the model instead, and use the 'model'.load"
   ]
  },
  {
   "cell_type": "code",
   "execution_count": 1,
   "metadata": {},
   "outputs": [
    {
     "name": "stdout",
     "output_type": "stream",
     "text": [
      "there are 48448 comments in training set \n",
      "there are 12113 comments in testing set \n"
     ]
    }
   ],
   "source": [
    "# load the data, clean-up texts, generate x = text, y = label dataset\n",
    "import numpy\n",
    "import re\n",
    "import spacy\n",
    "import en_core_web_sm\n",
    "import en_vectors_glove_md\n",
    "\n",
    "\n",
    "def cleanup_text(doc_text):\n",
    "    #doc_text = re.sub(\"[^a-zA-Z]\",\" \", doc_text)    \n",
    "    doc_text = re.sub(\" http[.s]*\\:.* \", \" url \", doc_text)\n",
    "    return doc_text\n",
    "\n",
    "# load training data\n",
    "train_comments = []\n",
    "train_labels = []\n",
    "with open('train_comments.csv', 'rb') as f:\n",
    "    for line in f:\n",
    "        sep_loc = line.rfind(',')\n",
    "        train_comments.append(cleanup_text(line[:sep_loc].decode('utf-8')))\n",
    "        train_labels.append(int(line[sep_loc+1:]))\n",
    "print ('there are %d comments in training set ' % len(train_comments))\n",
    "#load test data\n",
    "test_comments = []\n",
    "test_labels = []\n",
    "with open('test_comments.csv', 'rb') as f:\n",
    "    for line in f:\n",
    "        sep_loc = line.rfind(',')\n",
    "        test_comments.append(cleanup_text(line[:sep_loc].decode('utf-8')))\n",
    "        test_labels.append(int(line[sep_loc+1:]))\n",
    "print ('there are %d comments in testing set ' % len(test_comments))\n",
    "\n"
   ]
  },
  {
   "cell_type": "code",
   "execution_count": 2,
   "metadata": {},
   "outputs": [
    {
     "name": "stdout",
     "output_type": "stream",
     "text": [
      "('Extracting features with', <class 'sklearn.feature_extraction.text.CountVectorizer'>)\n",
      "Training <class 'sklearn.linear_model.logistic.LogisticRegression'>\n",
      "Best classification acc: 0.683433784676\n",
      "Test classification acc: 0.697349954594\n",
      "Training <class 'sklearn.svm.classes.LinearSVC'>\n",
      "Best classification acc: 0.678191050198\n",
      "Test classification acc: 0.695038388508\n",
      "('Extracting features with', <class 'sklearn.feature_extraction.text.TfidfVectorizer'>)\n",
      "Training <class 'sklearn.linear_model.logistic.LogisticRegression'>\n",
      "Best classification acc: 0.684940554822\n",
      "Test classification acc: 0.68356311401\n",
      "Training <class 'sklearn.svm.classes.LinearSVC'>\n",
      "Best classification acc: 0.685497853369\n",
      "Test classification acc: 0.704614876579\n",
      "('Extracting features with', <function word2vector at 0x000000000EABCBA8>)\n",
      "Training <class 'sklearn.linear_model.logistic.LogisticRegression'>\n",
      "Best classification acc: 0.673134081902\n",
      "Test classification acc: 0.685709568232\n",
      "Training <class 'sklearn.svm.classes.LinearSVC'>\n",
      "Best classification acc: 0.668634412153\n",
      "Test classification acc: 0.680013208949\n",
      "('Extracting features with', <function word2vector at 0x000000000EABCBA8>)\n",
      "Training <class 'sklearn.ensemble.forest.RandomForestClassifier'>\n",
      "Best classification acc: 0.653215819022\n",
      "Test classification acc: 0.668207710724\n"
     ]
    },
    {
     "data": {
      "text/plain": [
       "['wordVector_RF_prediction.pkl']"
      ]
     },
     "execution_count": 2,
     "metadata": {},
     "output_type": "execute_result"
    }
   ],
   "source": [
    "from sklearn.feature_extraction.text import CountVectorizer, TfidfVectorizer\n",
    "from sklearn.linear_model import LogisticRegression\n",
    "from sklearn.svm import LinearSVC\n",
    "from sklearn.ensemble import RandomForestClassifier\n",
    "from sklearn.model_selection import GridSearchCV\n",
    "import numpy as np\n",
    "from sklearn.externals import joblib\n",
    "# try two types of data representation, bag of words and tf-idf\n",
    "# try with three classifiers: logistic regression, linear svm, random forest\n",
    "# do a grid search to do model selection\n",
    "\n",
    "nlp = en_vectors_glove_md.load()\n",
    "def word2vector(list_doc):\n",
    "    w2v_feat = []\n",
    "    for i in range(len(list_doc)):\n",
    "        vector = nlp(list_doc[i]).vector\n",
    "        w2v_feat.append(vector)\n",
    "    return w2v_feat\n",
    "    \n",
    "vectorizers = [CountVectorizer, TfidfVectorizer, word2vector]\n",
    "classifiers = [LogisticRegression, LinearSVC] # RandomForestClassifier\n",
    "param_grid = {LogisticRegression: {'penalty':['l1', 'l2'],\n",
    "                                   'C':[0.001, 0.01, 0.1, 1, 10]},\n",
    "              LinearSVC: {'C':[0.001,0.01,0.1,1,10]}}\n",
    "# train_comments = train_comments[:1000]\n",
    "# train_labels = train_labels[:1000]\n",
    "filename = ['bagWord_LR', 'tfidf_LR', 'wordVector_LR', 'bagWord_SVC', 'tfidf_SVC', 'wordVector_SVC']\n",
    "\n",
    "counter = 0\n",
    "for vect in vectorizers:\n",
    "    print('Extracting features with', vect)\n",
    "    if vect == word2vector:\n",
    "        train_feat = word2vector(train_comments)\n",
    "        test_feat = word2vector(test_comments)\n",
    "\n",
    "    else:\n",
    "        feat_ext = vect(ngram_range=(1,3), # use up to 3-gram\n",
    "                    max_df=0.7 # use max df to filter stop words\n",
    "                    )\n",
    "        train_feat = feat_ext.fit_transform(train_comments) # feat_ext.fit(train_comments) feat_ext.transform(train_comments)\n",
    "        test_feat = feat_ext.transform(test_comments)\n",
    "\n",
    "    for classifier_type in classifiers:\n",
    "\n",
    "        print('Training {}'.format(classifier_type))\n",
    "        model = classifier_type()\n",
    "\n",
    "        model_selector = GridSearchCV(model,\n",
    "                                      param_grid[classifier_type],\n",
    "                                      n_jobs=4,\n",
    "                                      cv=3)\n",
    "        model_selector.fit(train_feat, train_labels)\n",
    "        print('Best classification acc: {}'.format(model_selector.best_score_))\n",
    "\n",
    "        test_acc = model_selector.score(test_feat, test_labels)\n",
    "        print('Test classification acc: {}'.format(test_acc))\n",
    "        joblib.dump(model_selector, '{}.pkl'.format(filename[counter])) \n",
    "        prediction = model_selector.predict(test_feat)\n",
    "        joblib.dump(prediction, '{}_prediction.pkl'.format(filename[counter]))\n",
    "        counter+=1\n",
    "\n",
    "# just for randomForest\n",
    "RF_param_grid = {'n_estimators':[100], # fix to 100 trees\n",
    "                'criterion':['gini', 'entropy'],\n",
    "                'min_samples_split':[2, 4, 10],\n",
    "                'n_jobs':[-1] # multi process\n",
    "                                      }\n",
    "print('Extracting features with', word2vector)\n",
    "train_feat = word2vector(train_comments)\n",
    "test_feat = word2vector(test_comments)\n",
    "print('Training {}'.format(RandomForestClassifier))\n",
    "model = RandomForestClassifier()\n",
    "model_selector = GridSearchCV(model,\n",
    "                              RF_param_grid,\n",
    "                              n_jobs=4,\n",
    "                              cv=3)\n",
    "model_selector.fit(train_feat, train_labels)\n",
    "print('Best classification acc: {}'.format(model_selector.best_score_))\n",
    "\n",
    "test_acc = model_selector.score(test_feat, test_labels)\n",
    "print('Test classification acc: {}'.format(test_acc))\n",
    "\n",
    "joblib.dump(model_selector, 'wordVector_RF.pkl')\n",
    "prediction = model_selector.predict(test_feat)\n",
    "joblib.dump(prediction, 'wordVector_RF_prediction.pkl')"
   ]
  },
  {
   "cell_type": "code",
   "execution_count": null,
   "metadata": {
    "collapsed": true
   },
   "outputs": [],
   "source": [
    "#check if the random-split for training set contains the same proportion of every category\n",
    "import numpy as np\n",
    "import matplotlib.pyplot as plt\n",
    "\n",
    "comments = []\n",
    "labels = []\n",
    "with open('comments.csv', 'rb') as f:\n",
    "    for line in f:\n",
    "        sep_loc = line.rfind(',')\n",
    "        comments.append(cleanup_text(line[:sep_loc].decode('utf-8')))\n",
    "        labels.append(int(line[sep_loc+1:]))\n",
    "        \n",
    "plt.hist(train_labels, bins='auto')  \n",
    "plt.show()\n",
    "print (np.histogram(train_labels, normed = True, bins = 9))\n",
    "        \n",
    "plt.hist(labels, bins='auto')  \n",
    "plt.show()\n",
    "print (np.histogram(labels, normed = True, bins = 9))"
   ]
  },
  {
   "cell_type": "code",
   "execution_count": null,
   "metadata": {
    "collapsed": true
   },
   "outputs": [],
   "source": []
  }
 ],
 "metadata": {
  "kernelspec": {
   "display_name": "Python 2",
   "language": "python",
   "name": "python2"
  },
  "language_info": {
   "codemirror_mode": {
    "name": "ipython",
    "version": 2
   },
   "file_extension": ".py",
   "mimetype": "text/x-python",
   "name": "python",
   "nbconvert_exporter": "python",
   "pygments_lexer": "ipython2",
   "version": "2.7.13"
  }
 },
 "nbformat": 4,
 "nbformat_minor": 2
}
